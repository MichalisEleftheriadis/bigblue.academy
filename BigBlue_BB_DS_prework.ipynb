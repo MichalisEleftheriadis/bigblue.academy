{
  "nbformat": 4,
  "nbformat_minor": 0,
  "metadata": {
    "colab": {
      "provenance": [],
      "toc_visible": true
    },
    "kernelspec": {
      "name": "python3",
      "display_name": "Python 3"
    },
    "language_info": {
      "name": "python"
    }
  },
  "cells": [
    {
      "cell_type": "markdown",
      "source": [
        "#BB_DS_prework -Python exercises\n",
        "\n"
      ],
      "metadata": {
        "id": "TG2Q2qx-9Y76"
      }
    },
    {
      "cell_type": "markdown",
      "source": [
        "##Exercise 1\n",
        "* Add 5 and 225 and print the result. Create 3 different variables\n",
        "* Divide 7 with 3\n",
        "* Divide 7 with 3 and get only the integer part\n",
        "* Find the remainder when dividing 7 with 3"
      ],
      "metadata": {
        "id": "b8p5tq9t6XVw"
      }
    },
    {
      "cell_type": "code",
      "source": [
        "# Add 5 and 225\n",
        "a = 5\n",
        "b = 225\n",
        "result =0\n",
        "print(result)\n",
        "\n",
        "# Divide 7 with 3\n",
        "print(7/3)\n",
        "\n",
        "# Divide 7 with 3 get only integer part\n",
        "print(int(7/3))\n",
        "print(7 // 3)\n",
        "\n",
        "# Find remainder when dividing 7 with 3\n",
        "print(7%3)\n"
      ],
      "metadata": {
        "colab": {
          "base_uri": "https://localhost:8080/"
        },
        "id": "f2B8Ejrx6uar",
        "outputId": "c80c6f1d-fc79-4ca7-91a7-8239a6be8d3c"
      },
      "execution_count": null,
      "outputs": [
        {
          "output_type": "stream",
          "name": "stdout",
          "text": [
            "0\n",
            "2.3333333333333335\n",
            "2\n",
            "2\n",
            "1\n"
          ]
        }
      ]
    },
    {
      "cell_type": "markdown",
      "source": [
        "## Exercise 2\n",
        "* Create a string with 40 dashes using the “-” symbol only once\n"
      ],
      "metadata": {
        "id": "39FnTc937yPG"
      }
    },
    {
      "cell_type": "code",
      "source": [
        "# Create string with 40 dashes\n",
        "print('-'* 40)"
      ],
      "metadata": {
        "colab": {
          "base_uri": "https://localhost:8080/"
        },
        "id": "OUQI0_dJ75RD",
        "outputId": "22ebd9ee-94d8-427e-d165-8d2e43a887aa"
      },
      "execution_count": null,
      "outputs": [
        {
          "output_type": "stream",
          "name": "stdout",
          "text": [
            "----------------------------------------\n"
          ]
        }
      ]
    },
    {
      "cell_type": "markdown",
      "source": [
        "##Exercise 3\n",
        "* Clean the following string: \"John=is-a-great web\n",
        "```\n",
        "# \"John=is-a-great web developer\\t    \"\n",
        "```\n",
        "* (it should look like “John is a great web developer“)"
      ],
      "metadata": {
        "id": "khimrwxb8IzN"
      }
    },
    {
      "cell_type": "code",
      "source": [
        "string = \"John=is-a-great web developer\\t    \"\n",
        "clean_string= string.strip(\"=\\t \")\n",
        "clean_string=string.replace('-',\" \").replace('=',' ')\n",
        "print(clean_string)"
      ],
      "metadata": {
        "colab": {
          "base_uri": "https://localhost:8080/"
        },
        "id": "iBAsxZJu8G1g",
        "outputId": "9df01717-197a-45c7-9f69-3d5587837b02"
      },
      "execution_count": null,
      "outputs": [
        {
          "output_type": "stream",
          "name": "stdout",
          "text": [
            "John is a great web developer\t    \n"
          ]
        }
      ]
    },
    {
      "cell_type": "markdown",
      "source": [
        "##Exercise 4\n",
        "Use input function and string formatting to create the following program.\n",
        "Ask the user to give: first name, last name, age and occupation.\n",
        "Then use this information to create the following sentence: “New user {first name} {last name},  {age} years old, {occupation}, has been registered in the system”"
      ],
      "metadata": {
        "id": "LYtO9TyL9PDj"
      }
    },
    {
      "cell_type": "code",
      "source": [
        "#Use input function and string formatting\n",
        "FirstName = input (\"Please enter your first name: \")\n",
        "LastName =  input (\"Please enter your lsat name: \")\n",
        "age =  input (\"Please enter your age: \")\n",
        "occupation =  input (\"Please enter your occupation: \")\n",
        "print(f\"New user {FirstName} {LastName}, {age} years old, {occupation}, has been registered in the sysmste\")"
      ],
      "metadata": {
        "colab": {
          "base_uri": "https://localhost:8080/"
        },
        "id": "TPKEcnq89o1m",
        "outputId": "2f8e2c32-adc5-4997-b547-84d75829906e"
      },
      "execution_count": null,
      "outputs": [
        {
          "output_type": "stream",
          "name": "stdout",
          "text": [
            "Please enter your first name: Paul\n",
            "Please enter your lsat name: Ford\n",
            "Please enter your age: 37\n",
            "Please enter your occupation: Automation Engineer\n",
            "New user Paul Ford, 37 years old, Automation Engineer, has been registered in the sysmste\n"
          ]
        }
      ]
    },
    {
      "cell_type": "markdown",
      "source": [
        "##Exercise 5\n",
        "* Make a list of the first ten multiples of ten (10, 20, 0... 90, 100). Print out your list."
      ],
      "metadata": {
        "id": "SeiA_DSs9O3o"
      }
    },
    {
      "cell_type": "code",
      "source": [
        "#First ten multiples of ten\n",
        "\n",
        "multiple =[]\n",
        "for n in range(1, 11):\n",
        "  multiple.append(n *10)\n",
        "print(multiple)\n"
      ],
      "metadata": {
        "colab": {
          "base_uri": "https://localhost:8080/"
        },
        "id": "AFkuGfRT_uph",
        "outputId": "76162c5c-7604-4229-8def-1507d1c6df20"
      },
      "execution_count": null,
      "outputs": [
        {
          "output_type": "stream",
          "name": "stdout",
          "text": [
            "[10, 20, 30, 40, 50, 60, 70, 80, 90, 100]\n"
          ]
        }
      ]
    },
    {
      "cell_type": "markdown",
      "source": [
        "##Exercise 6\n",
        "* Multiply all elements of the following list: x = [3,5,23,6,7]\n"
      ],
      "metadata": {
        "id": "xqXsEazk9_wx"
      }
    },
    {
      "cell_type": "code",
      "source": [
        "#Multiply list elements\n",
        "import numpy\n",
        "x = [3,5,23,6,7]\n",
        "x = numpy.prod(x)\n",
        "print(x)"
      ],
      "metadata": {
        "colab": {
          "base_uri": "https://localhost:8080/"
        },
        "id": "Xf0r9u59_tvF",
        "outputId": "5fe8a71f-24ba-4dcb-cb76-f9a8bf29c3ae"
      },
      "execution_count": null,
      "outputs": [
        {
          "output_type": "stream",
          "name": "stdout",
          "text": [
            "14490\n"
          ]
        }
      ]
    },
    {
      "cell_type": "markdown",
      "source": [
        "## Exercise 7\n",
        "* Write a program that takes as input an integer n and calculates the sum of all integers between 1 and n."
      ],
      "metadata": {
        "id": "S_88c88V9OoE"
      }
    },
    {
      "cell_type": "code",
      "source": [
        "def calculate_sum(n):\n",
        "  \"\"\"\n",
        "  This function calculates the sum of all integers between 1 and n.\n",
        "\n",
        "  Args:\n",
        "      n: The upper limit of the range (inclusive).\n",
        "\n",
        "  Returns:\n",
        "      The sum of all integers between 1 and n.\n",
        "  \"\"\"\n",
        "\n",
        "  # Use the formula for the sum of an arithmetic series\n",
        "  return n * (n + 1) // 2\n",
        "\n",
        "# Example usage\n",
        "n = 10\n",
        "sum_of_numbers = calculate_sum(n)\n",
        "print(f\"The sum of all integers between 1 and {n} is: {sum_of_numbers}\")\n"
      ],
      "metadata": {
        "id": "xqcgC8b7VZqL",
        "colab": {
          "base_uri": "https://localhost:8080/"
        },
        "outputId": "067a1cf1-d04e-4bd3-d77b-8a1ec784d5ab"
      },
      "execution_count": 18,
      "outputs": [
        {
          "output_type": "stream",
          "name": "stdout",
          "text": [
            "The sum of all integers between 1 and 10 is: 55\n"
          ]
        }
      ]
    },
    {
      "cell_type": "markdown",
      "source": [
        "## Exercise 8\n",
        "* Find the second largest number in the following list: x = [44,32,65,77,12,86]"
      ],
      "metadata": {
        "id": "XR2gKlT4V9A7"
      }
    },
    {
      "cell_type": "code",
      "source": [
        "# Second largest number in list\n",
        "x = [44,32,65,77,12,86]\n",
        "x.sort()\n",
        "print(x)\n",
        "second_largest_num = x[-2]\n",
        "print(second_largest_num)"
      ],
      "metadata": {
        "colab": {
          "base_uri": "https://localhost:8080/"
        },
        "id": "YmSVhCWnWBwD",
        "outputId": "4eca79a9-8400-4cc3-df29-5d07c1f9ad20"
      },
      "execution_count": null,
      "outputs": [
        {
          "output_type": "stream",
          "name": "stdout",
          "text": [
            "[12, 32, 44, 65, 77, 86]\n",
            "77\n"
          ]
        }
      ]
    },
    {
      "cell_type": "markdown",
      "source": [
        "## Exricese 9\n",
        "* Join the elements of the following list and add a - between them: fruits = ['Apple', 'Grapes', 'Berry', 'Orange']"
      ],
      "metadata": {
        "id": "OWXcFxsrWmvB"
      }
    },
    {
      "cell_type": "code",
      "source": [
        "#Join elements of list with '-'\n",
        "fruits = ['Apple', 'Grapes', 'Berry', 'Orange']\n",
        "joined_fruits = \"-\".join(fruits)\n",
        "print(joined_fruits)"
      ],
      "metadata": {
        "colab": {
          "base_uri": "https://localhost:8080/"
        },
        "id": "7tkD4XDUWlLJ",
        "outputId": "47d08d15-30be-4a89-9675-b561193e0094"
      },
      "execution_count": null,
      "outputs": [
        {
          "output_type": "stream",
          "name": "stdout",
          "text": [
            "Apple-Grapes-Berry-Orange\n"
          ]
        }
      ]
    },
    {
      "cell_type": "markdown",
      "source": [
        "## Exricese 10\n",
        "* Create a new list without duplicates from the given list: x = [32,3,5,4,4,3,2,6,4,5,6,7,8]"
      ],
      "metadata": {
        "id": "cWhflU10XLRi"
      }
    },
    {
      "cell_type": "code",
      "source": [
        "# Remove duplicated\n",
        "x = [32,3,5,4,4,3,2,6,4,5,6,7,8]\n",
        "lst = list(set(x))\n",
        "print(lst)"
      ],
      "metadata": {
        "colab": {
          "base_uri": "https://localhost:8080/"
        },
        "id": "QsG4tuWqXQrR",
        "outputId": "e6eb3d80-c1b6-4f09-d518-07f8b18fd7ba"
      },
      "execution_count": null,
      "outputs": [
        {
          "output_type": "stream",
          "name": "stdout",
          "text": [
            "[32, 2, 3, 4, 5, 6, 7, 8]\n"
          ]
        }
      ]
    },
    {
      "cell_type": "markdown",
      "source": [
        "## Exercise 11\n",
        "\n",
        "* Given the following list, use indexing to grab the word Data Science lst = [1,2,[3,4],[5,[100,200,['Data Science']],23,11],1,7]"
      ],
      "metadata": {
        "id": "qYCQOBqSX1o0"
      }
    },
    {
      "cell_type": "code",
      "source": [
        "# List indexing\n",
        "lst = [1,2,[3,4],[5,[100,200,['Data Science']],23,11],1,7]\n",
        "x = lst[3][1][2][0]\n",
        "print(x)"
      ],
      "metadata": {
        "colab": {
          "base_uri": "https://localhost:8080/"
        },
        "id": "HWvKoSksX_KJ",
        "outputId": "0095fde7-eb83-4586-b5f2-0f53e0d3720b"
      },
      "execution_count": null,
      "outputs": [
        {
          "output_type": "stream",
          "name": "stdout",
          "text": [
            "Data Science\n"
          ]
        }
      ]
    },
    {
      "cell_type": "markdown",
      "source": [
        "## Exercise 12\n",
        "* From the two following lists: x = [2,4,5,6,7,1,6,8], y = [3,4,5,6,0,3,9] create a new list with the non common elements."
      ],
      "metadata": {
        "id": "CKFhQsNuZRhg"
      }
    },
    {
      "cell_type": "code",
      "source": [
        "# non common elememts = nce\n",
        "x = [2,4,5,6,7,1,6,8]\n",
        "y = [3,4,5,6,0,3,9]\n",
        "\n",
        "set_x = set(x)\n",
        "set_y = set(y)\n",
        "\n",
        "# Find non-common elements\n",
        "nce = list(set_x ^ set_y)\n",
        "\n",
        "print(nce)"
      ],
      "metadata": {
        "colab": {
          "base_uri": "https://localhost:8080/"
        },
        "id": "CDADYForZIQq",
        "outputId": "2661021b-87dc-4bd4-e254-f8478c4f3c90"
      },
      "execution_count": null,
      "outputs": [
        {
          "output_type": "stream",
          "name": "stdout",
          "text": [
            "[0, 1, 2, 3, 7, 8, 9]\n"
          ]
        }
      ]
    },
    {
      "cell_type": "markdown",
      "source": [
        "## Exercise 13\n",
        "* Write a program that replaces a string in a list with 0. Example: x = [4,67,8, 'None', 32, 'Missing', 21]"
      ],
      "metadata": {
        "id": "trXT_AMtac0R"
      }
    },
    {
      "cell_type": "code",
      "source": [
        "# Replace string with 0\n",
        "x = [4,67,8, 'None', 32, 'Missing', 21]\n",
        "\n",
        "for n in range(len(x)):\n",
        "  if x[n] == 'None' or  x[n] == 'Missing':\n",
        "    x[n] = 0\n",
        "print(x)"
      ],
      "metadata": {
        "colab": {
          "base_uri": "https://localhost:8080/"
        },
        "id": "QIotLsm2af62",
        "outputId": "417ae080-8caa-4266-e0b6-d9135c4af886"
      },
      "execution_count": null,
      "outputs": [
        {
          "output_type": "stream",
          "name": "stdout",
          "text": [
            "[4, 67, 8, 0, 32, 0, 21]\n"
          ]
        }
      ]
    },
    {
      "cell_type": "markdown",
      "source": [
        "## Exercise 14\n",
        "* A list cleaner: create a program that detects if an element in the list is an inner list and then places these elements in the primary list (right where the element was)."
      ],
      "metadata": {
        "id": "6q-Pg_i4b-be"
      }
    },
    {
      "cell_type": "code",
      "source": [
        "def flatten_list(list1):\n",
        "  \"\"\"\n",
        "  This function flattens a list by removing any nested lists and adding their elements to the primary list.\n",
        "\n",
        "  Args:\n",
        "      list1: The list to be flattened.\n",
        "\n",
        "  Returns:\n",
        "      A new list containing the elements of the original list and its nested lists.\n",
        "  \"\"\"\n",
        "\n",
        "  flat_list = []\n",
        "  for item in list1:\n",
        "    if isinstance(item, list):\n",
        "      flat_list.extend(flatten_list(item))  # Recursively flatten nested lists\n",
        "    else:\n",
        "      flat_list.append(item)\n",
        "  return flat_list\n",
        "\n",
        "# Example usage\n",
        "original_list = [1, [2, 3], 4, [5, 6, [7]]]\n",
        "flattened_list = flatten_list(original_list)\n",
        "\n",
        "print(f\"Original list: {original_list}\")\n",
        "print(f\"Flattened list: {flattened_list}\")\n"
      ],
      "metadata": {
        "id": "ZHoBIuDRcEoB",
        "colab": {
          "base_uri": "https://localhost:8080/"
        },
        "outputId": "8a74a810-f3d5-4bdb-bfeb-43b83fa7d266"
      },
      "execution_count": 19,
      "outputs": [
        {
          "output_type": "stream",
          "name": "stdout",
          "text": [
            "Original list: [1, [2, 3], 4, [5, 6, [7]]]\n",
            "Flattened list: [1, 2, 3, 4, 5, 6, 7]\n"
          ]
        }
      ]
    },
    {
      "cell_type": "markdown",
      "source": [
        "## Exercise 15\n",
        "\n",
        "* Create a new list without duplicates from the given list (use sets):\n",
        "x = [32,3,5,4,4,3,2,6,4,5,6,7,8]"
      ],
      "metadata": {
        "id": "nUzkXhmqd5y1"
      }
    },
    {
      "cell_type": "code",
      "source": [
        "# it is the same excerise with ex.10\n",
        "# Remove duplicated\n",
        "x = [32,3,5,4,4,3,2,6,4,5,6,7,8]\n",
        "lst = list(set(x))\n",
        "print(lst)"
      ],
      "metadata": {
        "colab": {
          "base_uri": "https://localhost:8080/"
        },
        "id": "Olz_2CyMd5f3",
        "outputId": "d57103e6-066e-4e6b-ec72-8de6d7a92b46"
      },
      "execution_count": null,
      "outputs": [
        {
          "output_type": "stream",
          "name": "stdout",
          "text": [
            "[32, 2, 3, 4, 5, 6, 7, 8]\n"
          ]
        }
      ]
    },
    {
      "cell_type": "markdown",
      "source": [
        "## Exercise 16\n",
        "\n",
        "* From the two following lists: x = [2,4,5,6,7,1,6,8], y = [3,4,5,6,0,3,9] create a new list with the non common elements (use sets).\n",
        "\n"
      ],
      "metadata": {
        "id": "2x7gvvzceWsX"
      }
    },
    {
      "cell_type": "code",
      "source": [
        "# it is same exercise with 12\n",
        "\n",
        "# non common elememts = nce\n",
        "x = [2,4,5,6,7,1,6,8]\n",
        "y = [3,4,5,6,0,3,9]\n",
        "\n",
        "set_x = set(x)\n",
        "set_y = set(y)\n",
        "\n",
        "# Find non-common elements with XOR operator\n",
        "nce = list(set_x ^ set_y)\n",
        "\n",
        "print(nce)"
      ],
      "metadata": {
        "colab": {
          "base_uri": "https://localhost:8080/"
        },
        "id": "cKT-VmMueXBL",
        "outputId": "d52b3ef3-b62b-456d-c066-762c98339c4b"
      },
      "execution_count": null,
      "outputs": [
        {
          "output_type": "stream",
          "name": "stdout",
          "text": [
            "[0, 1, 2, 3, 7, 8, 9]\n"
          ]
        }
      ]
    },
    {
      "cell_type": "markdown",
      "source": [
        "## Exercise 17\n",
        "* Given the following dictionary use indexing to grab the word cylinder\n",
        "d = {'section':{'production':['wheel','tyre',{'engine':['pistons','valves','cylinder']}, 'door']}, 'development':'gearbox'}"
      ],
      "metadata": {
        "id": "lLRuGbRHe0sa"
      }
    },
    {
      "cell_type": "code",
      "source": [
        "#disctionary indexing\n",
        "d = {\n",
        "    'section': {\n",
        "        'production': ['wheel', 'tyre', {'engine': ['pistons', 'valves', 'cylinder']}, 'door']\n",
        "    },\n",
        "    'development': 'gearbox'\n",
        "}\n",
        "\n",
        "dictioanry = d['section']['production'][2]['engine'][2]\n",
        "print(dictioanry)"
      ],
      "metadata": {
        "colab": {
          "base_uri": "https://localhost:8080/"
        },
        "id": "tLg2BrP4e0_m",
        "outputId": "bb48dfb7-007d-4a61-e306-6aff2ea266e4"
      },
      "execution_count": null,
      "outputs": [
        {
          "output_type": "stream",
          "name": "stdout",
          "text": [
            "cylinder\n"
          ]
        }
      ]
    },
    {
      "cell_type": "markdown",
      "source": [
        "## Exercise 18"
      ],
      "metadata": {
        "id": "MV4M89hSnfwL"
      }
    },
    {
      "cell_type": "code",
      "source": [
        "careers = [\"programmer\", \"doctor\", \"teacher\", \"truck driver\"]\n",
        "\n",
        "# Find the index of \"programmer\"\n",
        "programmer_index = careers.index(\"programmer\")\n",
        "print(f\"'programmer' is at index {programmer_index} in the list.\")\n",
        "\n",
        "# Check if \"doctor\" is in the list using if and in\n",
        "if \"doctor\" in careers:\n",
        "  print(\"'doctor' is in the list.\")\n",
        "\n",
        "# Add \"engineer\" to the list using append()\n",
        "careers.append(\"engineer\")\n",
        "print(f\"List after adding 'engineer': {careers}\")\n",
        "\n",
        "# Add \"musician\" to the beginning using insert()\n",
        "careers.insert(0, \"musician\")\n",
        "print(f\"List after adding 'musician' at the beginning: {careers}\")\n",
        "\n",
        "# Print the list in different orders\n",
        "\n",
        "# Alphabetical order\n",
        "print(\"\\nList in alphabetical order:\")\n",
        "print(sorted(careers))\n",
        "\n",
        "# Original order\n",
        "print(\"\\nList in original order:\")\n",
        "print(careers)\n",
        "\n",
        "# Reverse alphabetical order\n",
        "print(\"\\nList in reverse alphabetical order:\")\n",
        "print(sorted(careers, reverse=True))\n"
      ],
      "metadata": {
        "colab": {
          "base_uri": "https://localhost:8080/"
        },
        "id": "QSYlNLrWm6QD",
        "outputId": "4fa5373f-76c6-4bd9-93b9-f8a03d4a826f"
      },
      "execution_count": 20,
      "outputs": [
        {
          "output_type": "stream",
          "name": "stdout",
          "text": [
            "'programmer' is at index 0 in the list.\n",
            "'doctor' is in the list.\n",
            "List after adding 'engineer': ['programmer', 'doctor', 'teacher', 'truck driver', 'engineer']\n",
            "List after adding 'musician' at the beginning: ['musician', 'programmer', 'doctor', 'teacher', 'truck driver', 'engineer']\n",
            "\n",
            "List in alphabetical order:\n",
            "['doctor', 'engineer', 'musician', 'programmer', 'teacher', 'truck driver']\n",
            "\n",
            "List in original order:\n",
            "['musician', 'programmer', 'doctor', 'teacher', 'truck driver', 'engineer']\n",
            "\n",
            "List in reverse alphabetical order:\n",
            "['truck driver', 'teacher', 'programmer', 'musician', 'engineer', 'doctor']\n"
          ]
        }
      ]
    },
    {
      "cell_type": "markdown",
      "source": [
        "## Exercise 19\n",
        "Alphabet Slices.\n",
        "* Store the first ten letters of the alphabet in a list.\n",
        "* Use a slice to print out the first three letters of the alphabet.\n",
        "* Use a slice to print out any three letters from the middle of your list.\n",
        "*  Use a slice to print out the letters from any point in the middle of your list, to the end."
      ],
      "metadata": {
        "id": "_oWVIYImnflV"
      }
    },
    {
      "cell_type": "code",
      "source": [
        "alphabet = ['a', 'b', 'c', 'd', 'e', 'f', 'g', 'h', 'i', 'j', 'k', 'l', 'm',\n",
        "            'n', 'o', 'p', 'q', 'r', 's', 't', 'u', 'v', 'w', 'x', 'y', 'z']\n",
        "\n",
        "#store  the first 10 letters\n",
        "lst = alphabet[:10]\n",
        "print(lst)\n",
        "\n",
        "# slice tje fisrt 3 leets\n",
        "lst1 = lst[:3]\n",
        "print(lst1)\n",
        "\n",
        "# slice any 3 letters from the middle of the list\n",
        "lst2 = lst [4:7]\n",
        "[print(lst2)]\n",
        "\n",
        "# slice any letter from the middle to the end\n",
        "lst3 = lst[5:]\n",
        "print(lst3)"
      ],
      "metadata": {
        "colab": {
          "base_uri": "https://localhost:8080/"
        },
        "id": "CFML43SZn1Nv",
        "outputId": "c927d89c-0dde-481f-b646-ff746dcbc825"
      },
      "execution_count": null,
      "outputs": [
        {
          "output_type": "stream",
          "name": "stdout",
          "text": [
            "['a', 'b', 'c', 'd', 'e', 'f', 'g', 'h', 'i', 'j']\n",
            "['a', 'b', 'c']\n",
            "['e', 'f', 'g']\n",
            "['f', 'g', 'h', 'i', 'j']\n"
          ]
        }
      ]
    },
    {
      "cell_type": "markdown",
      "source": [
        "## Exercise 20\n",
        "* Create a function that returns true when the parameter passed is a string and false otherwise"
      ],
      "metadata": {
        "id": "-ihovTtGtXwy"
      }
    },
    {
      "cell_type": "code",
      "source": [
        "def is_string(input):\n",
        "    return isinstance(input, str)\n",
        "\n",
        "print(is_string(\"Hello, World!\"))  # Output: True\n",
        "print(is_string(12345))  # Output: False\n"
      ],
      "metadata": {
        "colab": {
          "base_uri": "https://localhost:8080/"
        },
        "id": "iGVEbhfUncak",
        "outputId": "9e674f5f-4a2a-415e-9895-37a63a33ebd1"
      },
      "execution_count": 26,
      "outputs": [
        {
          "output_type": "stream",
          "name": "stdout",
          "text": [
            "True\n",
            "False\n"
          ]
        }
      ]
    },
    {
      "cell_type": "markdown",
      "source": [
        "## Exercise 21\n",
        "* Check if the word holiday is in a given string. Spring example: 'St. Moritz is a nice location to visit over Christmas holidays!'"
      ],
      "metadata": {
        "id": "Zst-O2C9t5IJ"
      }
    },
    {
      "cell_type": "code",
      "source": [
        "#Check for word in string\n",
        "string = 'St. Moritz is a nice location to visit over Christmas holidays!'\n",
        "word = 'holiday'\n",
        "if word in string:\n",
        "  print('it is present in the string')\n",
        "else:\n",
        "  print('it is not found in the string')"
      ],
      "metadata": {
        "colab": {
          "base_uri": "https://localhost:8080/"
        },
        "id": "8lKaK41iuu3s",
        "outputId": "e8f17e7e-3713-4053-a23b-1402b66066b6"
      },
      "execution_count": null,
      "outputs": [
        {
          "output_type": "stream",
          "name": "stdout",
          "text": [
            "it is present in the string\n"
          ]
        }
      ]
    },
    {
      "cell_type": "markdown",
      "source": [
        "## Exercise 22\n",
        "* Take a random number and convert it to a reverse-sorted list of digits\n"
      ],
      "metadata": {
        "id": "YYiFlmIi08AC"
      }
    },
    {
      "cell_type": "code",
      "source": [
        "import random\n",
        "\n",
        "# Generate a random number\n",
        "number = random.randint(1, 999)  # Adjust the range as needed\n",
        "\n",
        "# Convert the number to a string and then to a list of digits\n",
        "digits = list(str(number))\n",
        "\n",
        "# Sort the digits in reverse order\n",
        "digits.sort(reverse=True)\n",
        "\n",
        "# Print the result\n",
        "print(f\"Original number: {number}\")\n",
        "print(f\"Reverse-sorted digits: {digits}\")\n"
      ],
      "metadata": {
        "id": "wbbQVaOF0_i4",
        "colab": {
          "base_uri": "https://localhost:8080/"
        },
        "outputId": "5eaf3985-3075-4cda-972f-29dce5a4f792"
      },
      "execution_count": 23,
      "outputs": [
        {
          "output_type": "stream",
          "name": "stdout",
          "text": [
            "Original number: 886\n",
            "Reverse-sorted digits: ['8', '8', '6']\n"
          ]
        }
      ]
    },
    {
      "cell_type": "markdown",
      "source": [
        "## Exercise 23"
      ],
      "metadata": {
        "id": "U8l9jdTQ1W6k"
      }
    },
    {
      "cell_type": "code",
      "source": [
        "from itertools import combinations\n",
        "\n",
        "data = {'part 1': ['a', 'b'], 'part 2': ['c', 'd']}\n",
        "\n",
        "# Get all combinations of choices from each part\n",
        "all_combinations = product(*[data[part] for part in data])\n",
        "\n",
        "# Print each combination by joining its elements\n",
        "for combo in all_combinations:\n",
        "  print(\"\".join(combo))\n",
        "\n"
      ],
      "metadata": {
        "colab": {
          "base_uri": "https://localhost:8080/"
        },
        "id": "Zfb_ojw2oc-l",
        "outputId": "b5bc4b94-9159-4082-ef9d-2ab9dc0670c6"
      },
      "execution_count": 25,
      "outputs": [
        {
          "output_type": "stream",
          "name": "stdout",
          "text": [
            "ac\n",
            "ad\n",
            "bc\n",
            "bd\n"
          ]
        }
      ]
    },
    {
      "cell_type": "markdown",
      "source": [
        "## Exercise 24\n",
        "* Find how much is the average bill and how much is the total cost over the whole year."
      ],
      "metadata": {
        "id": "-QGJhdXV1Y8v"
      }
    },
    {
      "cell_type": "code",
      "source": [
        "total_cost = 0\n",
        "average_cost = 0\n",
        "electricity_bill = {\n",
        "        'January': 232,\n",
        "        'February': 245,\n",
        "        'March': 267,\n",
        "        'April': 223,\n",
        "        'May': 257,\n",
        "        'June': 284,\n",
        "        'July': 243,\n",
        "        'August': 120,\n",
        "        'September': 245,\n",
        "        'October': 278,\n",
        "        'November': 345,\n",
        "        'December': 326,\n",
        "}\n",
        "total_cost = sum(electricity_bill.values())\n",
        "average_cost = total_cost /len(electricity_bill)\n",
        "print(\"{:.3f}\".format(average_cost))"
      ],
      "metadata": {
        "colab": {
          "base_uri": "https://localhost:8080/"
        },
        "id": "DIVv5Ulx1csx",
        "outputId": "bb7bf4ed-4889-48e1-d91d-53d21ea704d3"
      },
      "execution_count": 1,
      "outputs": [
        {
          "output_type": "stream",
          "name": "stdout",
          "text": [
            "255.417\n"
          ]
        }
      ]
    },
    {
      "cell_type": "markdown",
      "source": [
        "## Exercise 25"
      ],
      "metadata": {
        "id": "x5XZP1l5hwYv"
      }
    },
    {
      "cell_type": "code",
      "source": [
        "#convert grades from numbers to letters\n",
        "grades = [91, 64, 47, 82, 67, 96]\n",
        "letter_grades = []\n",
        "\n",
        "for grade in grades:\n",
        "  if grade >= 90:\n",
        "    letter_grades.append('A')\n",
        "  elif grade >= 80:\n",
        "    letter_grades.append('B')\n",
        "  elif grade >= 70:\n",
        "    letter_grades.append('C')\n",
        "  elif grade >= 60:\n",
        "    letter_grades.append('D')\n",
        "  else:\n",
        "    letter_grades.append('F')\n",
        "\n",
        "print(letter_grades)\n"
      ],
      "metadata": {
        "colab": {
          "base_uri": "https://localhost:8080/"
        },
        "id": "S9jmGC1Whvq3",
        "outputId": "f747f1e3-6d17-447e-ff2d-df25a1cb3310"
      },
      "execution_count": 2,
      "outputs": [
        {
          "output_type": "stream",
          "name": "stdout",
          "text": [
            "['A', 'D', 'F', 'B', 'D', 'A']\n"
          ]
        }
      ]
    },
    {
      "cell_type": "markdown",
      "source": [
        "## Exercise 26"
      ],
      "metadata": {
        "id": "5Cp1GYCbh_q5"
      }
    },
    {
      "cell_type": "code",
      "source": [
        "temperature = {\n",
        "    'June': [25, 25, 26, 27, 25, 25, 24, 27, 28, 28, 31, 32, 33],\n",
        "    'July': [34, 34, 36, 39, 39, 38, 39, 37, 39, 41, 41, 39, 37],\n",
        "    'August': [37, 37, 36, 37, 35, 35, 34, 37, 38, 34, 32, 33, 31],\n",
        "}\n",
        "\n",
        "# Find the month with the highest average temperature\n",
        "highest_avg_temp = None\n",
        "highest_avg_temp_value = 0\n",
        "\n",
        "for month, days in temperature.items():\n",
        "    avg_temp = sum(days) / len(days)\n",
        "    if avg_temp > highest_avg_temp_value:\n",
        "        highest_avg_temp = month\n",
        "        highest_avg_temp_value = avg_temp\n",
        "\n",
        "# Find the month with the lowest average temperature\n",
        "lowest_avg_temp = None\n",
        "lowest_avg_temp_value = float('inf')\n",
        "\n",
        "for month, days in temperature.items():\n",
        "    avg_temp = sum(days) / len(days)\n",
        "    if avg_temp < lowest_avg_temp_value:\n",
        "        lowest_avg_temp = month\n",
        "        lowest_avg_temp_value = avg_temp\n",
        "\n",
        "print(f\"The month with the hottest day is {highest_avg_temp} with an average temperature of {highest_avg_temp_value:.2f} degrees.\")\n",
        "print(f\"The month with the coldest day is {lowest_avg_temp} with an average temperature of {lowest_avg_temp_value:.2f} degrees.\")\n"
      ],
      "metadata": {
        "colab": {
          "base_uri": "https://localhost:8080/"
        },
        "id": "0GfK-cjmiAQF",
        "outputId": "a2d291a9-1127-4ac4-a1c6-4ed378717798"
      },
      "execution_count": 3,
      "outputs": [
        {
          "output_type": "stream",
          "name": "stdout",
          "text": [
            "The month with the hottest day is July with an average temperature of 37.92 degrees.\n",
            "The month with the coldest day is June with an average temperature of 27.38 degrees.\n"
          ]
        }
      ]
    },
    {
      "cell_type": "markdown",
      "source": [
        "## Exercise 27"
      ],
      "metadata": {
        "id": "3OOIA-DOixAG"
      }
    },
    {
      "cell_type": "code",
      "source": [
        "# Make a list of the squares of the even numbers between 1 to 10\n",
        "# empty list\n",
        "even_squares = []\n",
        "\n",
        "# Iterate through numbers from 1 to 10\n",
        "for num in range(1, 11):\n",
        "  # Check if the number is even\n",
        "  if num % 2 == 0:\n",
        "    # If even, square the number and append it to the list\n",
        "    even_squares.append(num * num)\n",
        "\n",
        "# Print the list of squares\n",
        "print(even_squares)"
      ],
      "metadata": {
        "colab": {
          "base_uri": "https://localhost:8080/"
        },
        "id": "Oe7bHR2UizHx",
        "outputId": "725a2d5f-a957-466b-c1d3-7609a29df5b6"
      },
      "execution_count": 4,
      "outputs": [
        {
          "output_type": "stream",
          "name": "stdout",
          "text": [
            "[4, 16, 36, 64, 100]\n"
          ]
        }
      ]
    },
    {
      "cell_type": "markdown",
      "source": [
        "## Exercise 28"
      ],
      "metadata": {
        "id": "-Q1mzlp0i_RI"
      }
    },
    {
      "cell_type": "code",
      "source": [
        "def find_even_numbers(number_list):\n",
        "  \"\"\"\n",
        "  This function takes a list of numbers and returns a list containing only the even numbers.\n",
        "\n",
        "  Args:\n",
        "  number_list: A list of numbers.\n",
        "\n",
        "  Returns:\n",
        "  A list containing only the even numbers from the input list.\n",
        "  \"\"\"\n",
        "\n",
        "  even_numbers = []\n",
        "  for num in number_list:\n",
        "    if num % 2 == 0:\n",
        "      even_numbers.append(num)\n",
        "  return even_numbers\n",
        "\n",
        "# Example usage\n",
        "number_list = [1, 2, 3, 4, 5, 6, 7, 8, 9, 10]\n",
        "even_list = find_even_numbers(number_list)\n",
        "print(even_list)\n"
      ],
      "metadata": {
        "colab": {
          "base_uri": "https://localhost:8080/"
        },
        "id": "RlIu5Rbui-rr",
        "outputId": "d19d0d0b-0679-42aa-c417-9a0ea34e8ff4"
      },
      "execution_count": 5,
      "outputs": [
        {
          "output_type": "stream",
          "name": "stdout",
          "text": [
            "[2, 4, 6, 8, 10]\n"
          ]
        }
      ]
    },
    {
      "cell_type": "markdown",
      "source": [
        "## Exercise 29"
      ],
      "metadata": {
        "id": "yvk9lK1HjWZE"
      }
    },
    {
      "cell_type": "code",
      "source": [
        "def product_of_list(list_of_numbers):\n",
        "  \"\"\"\n",
        "  This function takes a list of integers as input and returns the product of all of the elements in that list.\n",
        "\n",
        "  Args:\n",
        "      list_of_numbers: A list of integers.\n",
        "\n",
        "  Returns:\n",
        "      The product of all the elements in the list.\n",
        "  \"\"\"\n",
        "\n",
        "  product = 1\n",
        "  for num in list_of_numbers:\n",
        "    product = product * num\n",
        "  return product\n",
        "\n",
        "# Example usage\n",
        "number_list = [1, 2, 3, 4, 5]\n",
        "list_product = product_of_list(number_list)\n",
        "print(list_product)\n"
      ],
      "metadata": {
        "colab": {
          "base_uri": "https://localhost:8080/"
        },
        "id": "Ggp8R3EKjfAJ",
        "outputId": "f0bc70f2-321d-4193-df0a-41df3a1568f6"
      },
      "execution_count": 7,
      "outputs": [
        {
          "output_type": "stream",
          "name": "stdout",
          "text": [
            "120\n"
          ]
        }
      ]
    },
    {
      "cell_type": "markdown",
      "source": [
        "## Exercsie 30"
      ],
      "metadata": {
        "id": "MiLkio5yj-qZ"
      }
    },
    {
      "cell_type": "code",
      "source": [
        "# Write a function that takes in a list and gives only the unique elements.\n",
        "def find_unique_elements(list_of_items):\n",
        "  \"\"\"\n",
        "  This function takes a list and returns a list containing only the unique elements.\n",
        "\n",
        "  Args:\n",
        "      list_of_items: A list of any data type.\n",
        "\n",
        "  Returns:\n",
        "      A list containing only the unique elements from the input list.\n",
        "  \"\"\"\n",
        "\n",
        "  unique_elements = []\n",
        "  for item in list_of_items:\n",
        "    if item not in unique_elements:\n",
        "      unique_elements.append(item)\n",
        "  return unique_elements\n",
        "\n",
        "# Example usage\n",
        "mixed_list = [1, 9, 5, 3, 4, 5, 11, 1]\n",
        "unique_list = find_unique_elements(mixed_list)\n",
        "print(unique_list)\n"
      ],
      "metadata": {
        "colab": {
          "base_uri": "https://localhost:8080/"
        },
        "id": "eRZkcnEVkA1h",
        "outputId": "7de68a6c-6c8b-4331-81ea-97f5572e4fca"
      },
      "execution_count": 10,
      "outputs": [
        {
          "output_type": "stream",
          "name": "stdout",
          "text": [
            "[1, 9, 5, 3, 4, 11]\n"
          ]
        }
      ]
    },
    {
      "cell_type": "markdown",
      "source": [
        "## Exercise 31"
      ],
      "metadata": {
        "id": "Aj7mpswhkYHu"
      }
    },
    {
      "cell_type": "code",
      "source": [
        "#Write a function to calculate the average of a list of numbers\n",
        "def calculate_average(number_list):\n",
        "  \"\"\"\n",
        "  This function takes a list of numbers and returns the average of the elements in the list.\n",
        "\n",
        "  Args:\n",
        "      number_list: A list of numbers.\n",
        "\n",
        "  Returns:\n",
        "      The average of the elements in the list.\n",
        "  \"\"\"\n",
        "\n",
        "  if not number_list:\n",
        "    return None  # Handle empty list case\n",
        "\n",
        "  total_sum = sum(number_list)\n",
        "  average = total_sum / len(number_list)\n",
        "  return average\n",
        "\n",
        "# Example usage\n",
        "number_list = [1, 2, 3, 4, 5, 6, 7, 8, 9, 10]\n",
        "list_average = calculate_average(number_list)\n",
        "print(list_average)\n"
      ],
      "metadata": {
        "colab": {
          "base_uri": "https://localhost:8080/"
        },
        "id": "sycFSULXkaIq",
        "outputId": "59ab37ec-637a-4fc2-9aa5-55a265c4ca13"
      },
      "execution_count": 11,
      "outputs": [
        {
          "output_type": "stream",
          "name": "stdout",
          "text": [
            "5.5\n"
          ]
        }
      ]
    },
    {
      "cell_type": "markdown",
      "source": [
        "## Exercise 32"
      ],
      "metadata": {
        "id": "h9Sy9omgklL7"
      }
    },
    {
      "cell_type": "code",
      "source": [
        "order_list = [\n",
        "    'fries', 'burger', 'eggs', 'pasta', 'pizza', 'schnitzel', 'salad', 'water',\n",
        "    'soda', 'wine', 'eggs', 'pasta', 'pizza', 'schnitzel', 'salad', 'water',\n",
        "    'soda', 'wine', 'pizza', 'schnitzel', 'soda', 'wine', 'lemonade', 'steak',\n",
        "    'pasta', 'salad', 'fries', 'burger', 'water', 'burger'\n",
        "]\n",
        "\n",
        "# dictionary to store the order counts\n",
        "order_counts = {}\n",
        "\n",
        "# Iterate through the order list\n",
        "for order in order_list:\n",
        "  # Check if the order exists in the dictionary\n",
        "  if order in order_counts:\n",
        "    # Increment the count for the existing order\n",
        "    order_counts[order] += 1\n",
        "  else:\n",
        "    # Add the order to the dictionary with a count of 1\n",
        "    order_counts[order] = 1\n",
        "\n",
        "# Print the order counts\n",
        "print(order_counts)"
      ],
      "metadata": {
        "colab": {
          "base_uri": "https://localhost:8080/"
        },
        "id": "MSv8_A6MkkjJ",
        "outputId": "8a7c0e0e-42fb-400f-800c-f3d66b2a71e3"
      },
      "execution_count": 14,
      "outputs": [
        {
          "output_type": "stream",
          "name": "stdout",
          "text": [
            "{'fries': 2, 'burger': 3, 'eggs': 2, 'pasta': 3, 'pizza': 3, 'schnitzel': 3, 'salad': 3, 'water': 3, 'soda': 3, 'wine': 3, 'lemonade': 1, 'steak': 1} \n",
            "\n"
          ]
        }
      ]
    },
    {
      "cell_type": "markdown",
      "source": [
        "## Exercise 33"
      ],
      "metadata": {
        "id": "T9Bett_flSf7"
      }
    },
    {
      "cell_type": "code",
      "source": [
        "customers = {\n",
        "    'customer 1': {'name': 'John Smith', 'city': 'New York', 'nr_or_purchases': 3, 'items': ['coffee', 'cookies', 'milk']},\n",
        "    'customer 2': {'name': 'Rebeca Collins', 'city': 'New York', 'nr_or_purchases': 1, 'items': ['sugar']},\n",
        "    'customer 3': {'name': 'Edward Matthews', 'city': 'Boston', 'nr_or_purchases': 4, 'items': ['bananas', 'apples', 'oranges', 'cherries']},\n",
        "    'customer 4': {'name': 'Maria Simmons', 'city': 'Boston', 'nr_or_purchases': 3, 'items': ['ham', 'cheese', 'butter']}\n",
        "}\n",
        "\n",
        "# Update Edward Matthews purchases\n",
        "customers['customer 3']['items'].append('berries')\n",
        "customers['customer 3']['nr_or_purchases'] += 1\n",
        "\n",
        "# Remove Rebeca Collins\n",
        "del customers['customer 2']\n",
        "\n",
        "# Add new customer Sophia Willis\n",
        "customers['customer 5'] = {\n",
        "    'name': 'Sophia Willis',\n",
        "    'city': 'Alabama',\n",
        "    'nr_or_purchases': 4,\n",
        "    'items': ['sugar', 'milk', 'butter', 'flour']\n",
        "}\n",
        "\n",
        "# Add promo to customers with more than 3 purchases\n",
        "for customer, details in customers.items():\n",
        "    if details['nr_or_purchases'] > 3:\n",
        "        details['promo'] = 'coupon'\n",
        "\n",
        "# Add discount to Boston customers\n",
        "for customer, details in customers.items():\n",
        "    if details['city'] == 'Boston':\n",
        "        details['discount'] = '10%'\n",
        "\n",
        "# Print the updated dictionary\n",
        "print(customers)\n"
      ],
      "metadata": {
        "colab": {
          "base_uri": "https://localhost:8080/"
        },
        "id": "RzeYJ7NvlU3A",
        "outputId": "cac89bb8-9f41-435f-e407-6931c94a8f43"
      },
      "execution_count": 15,
      "outputs": [
        {
          "output_type": "stream",
          "name": "stdout",
          "text": [
            "{'customer 1': {'name': 'John Smith', 'city': 'New York', 'nr_or_purchases': 3, 'items': ['coffee', 'cookies', 'milk']}, 'customer 3': {'name': 'Edward Matthews', 'city': 'Boston', 'nr_or_purchases': 5, 'items': ['bananas', 'apples', 'oranges', 'cherries', 'berries'], 'promo': 'coupon', 'discount': '10%'}, 'customer 4': {'name': 'Maria Simmons', 'city': 'Boston', 'nr_or_purchases': 3, 'items': ['ham', 'cheese', 'butter'], 'discount': '10%'}, 'customer 5': {'name': 'Sophia Willis', 'city': 'Alabama', 'nr_or_purchases': 4, 'items': ['sugar', 'milk', 'butter', 'flour'], 'promo': 'coupon'}}\n"
          ]
        }
      ]
    },
    {
      "cell_type": "markdown",
      "source": [
        "## Exercise 34"
      ],
      "metadata": {
        "id": "oCVUm32Elv09"
      }
    },
    {
      "cell_type": "code",
      "source": [
        "def count_letters(sentence):\n",
        "  \"\"\"\n",
        "  This function counts the number of uppercase and lowercase letters in a sentence.\n",
        "\n",
        "  Args:\n",
        "      sentence: The sentence to be analyzed.\n",
        "\n",
        "  Returns:\n",
        "      A dictionary containing the counts of uppercase and lowercase letters.\n",
        "  \"\"\"\n",
        "\n",
        "  uppercase_count = 0\n",
        "  lowercase_count = 0\n",
        "\n",
        "  for char in sentence:\n",
        "    if char.isupper():\n",
        "      uppercase_count += 1\n",
        "    elif char.islower():\n",
        "      lowercase_count += 1\n",
        "\n",
        "  return {'uppercase': uppercase_count, 'lowercase': lowercase_count}\n",
        "\n",
        "# Get sentence input from the user\n",
        "sentence = input(\"Enter a sentence: \")\n",
        "\n",
        "# Count and print letter counts\n",
        "letter_counts = count_letters(sentence)\n",
        "print(\"The sentence has:\")\n",
        "print(f\"* {letter_counts['uppercase']} uppercase letters.\")\n",
        "print(f\"* {letter_counts['lowercase']} lowercase letters.\")\n"
      ],
      "metadata": {
        "colab": {
          "base_uri": "https://localhost:8080/"
        },
        "id": "0c5Il-zYl0H5",
        "outputId": "c84bd6bf-8d8c-4eee-b330-2eeda3fd220c"
      },
      "execution_count": 16,
      "outputs": [
        {
          "output_type": "stream",
          "name": "stdout",
          "text": [
            "Enter a sentence: Write a function that accepts a sentence and counts the number of uppercase letters and lowercase letters\n",
            "The sentence has:\n",
            "* 1 uppercase letters.\n",
            "* 88 lowercase letters.\n"
          ]
        }
      ]
    },
    {
      "cell_type": "markdown",
      "source": [
        "## Exercise 35"
      ],
      "metadata": {
        "id": "FIxLQScMmD5O"
      }
    },
    {
      "cell_type": "code",
      "source": [
        "# list to store the cubes\n",
        "cubes = []\n",
        "\n",
        "# Use a for loop to calculate and store the cubes of numbers from 1 to 10\n",
        "for num in range(1, 11):\n",
        "  cube = num ** 3\n",
        "  cubes.append(cube)\n",
        "\n",
        "# Print the cubes\n",
        "print(\"The first 10 cubes are:\")\n",
        "for cube in cubes:\n",
        "  print(cube)"
      ],
      "metadata": {
        "colab": {
          "base_uri": "https://localhost:8080/"
        },
        "id": "OvsBaKJLmK4d",
        "outputId": "7f0dd6f3-b1a2-4745-9ee2-cb6fb8c59671"
      },
      "execution_count": 17,
      "outputs": [
        {
          "output_type": "stream",
          "name": "stdout",
          "text": [
            "The first 10 cubes are:\n",
            "1\n",
            "8\n",
            "27\n",
            "64\n",
            "125\n",
            "216\n",
            "343\n",
            "512\n",
            "729\n",
            "1000\n"
          ]
        }
      ]
    }
  ]
}